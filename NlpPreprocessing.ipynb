{
 "cells": [
  {
   "cell_type": "code",
   "execution_count": 1,
   "metadata": {},
   "outputs": [
    {
     "name": "stdout",
     "output_type": "stream",
     "text": [
      "['This', 'is', 'andrew', \"'s\", 'text', ',', 'is', \"n't\", 'its', '?', 'feet', 'cat', 'wolves', 'talked']\n",
      "thi is andrew 's text , is n't it ? feet cat wolv talk\n",
      "This is andrew 's text , is n't it ? foot cat wolf talked\n"
     ]
    }
   ],
   "source": [
    "import nltk\n",
    "#nltk.download('wordnet')\n",
    "\n",
    "text =\"This is andrew's text, isn't its? feet cat wolves talked\"\n",
    "\n",
    "#tokenizer=nltk.tokenize.WhitespaceTokenizer()\n",
    "#tokens=tokenizer.tokenize(text);\n",
    "#print(tokens)\n",
    "\n",
    "tokenizer=nltk.tokenize.TreebankWordTokenizer()\n",
    "tokens=tokenizer.tokenize(text);\n",
    "print(tokens)\n",
    "\n",
    "#tokenizer=nltk.tokenize.WordPunctTokenizer()\n",
    "#tokens=tokenizer.tokenize(text);\n",
    "#print(tokens)\n",
    "\n",
    "stemmer = nltk.stem.PorterStemmer()\n",
    "words=\" \".join(stemmer.stem(token) for token in tokens);\n",
    "print(words)\n",
    "\n",
    "stemmer=nltk.stem.WordNetLemmatizer()\n",
    "words=\" \".join(stemmer.lemmatize(token) for token in tokens);\n",
    "print(words)"
   ]
  },
  {
   "cell_type": "code",
   "execution_count": null,
   "metadata": {},
   "outputs": [],
   "source": []
  },
  {
   "cell_type": "code",
   "execution_count": null,
   "metadata": {},
   "outputs": [],
   "source": []
  }
 ],
 "metadata": {
  "kernelspec": {
   "display_name": "Python 3",
   "language": "python",
   "name": "python3"
  },
  "language_info": {
   "codemirror_mode": {
    "name": "ipython",
    "version": 3
   },
   "file_extension": ".py",
   "mimetype": "text/x-python",
   "name": "python",
   "nbconvert_exporter": "python",
   "pygments_lexer": "ipython3",
   "version": "3.7.0"
  }
 },
 "nbformat": 4,
 "nbformat_minor": 2
}
